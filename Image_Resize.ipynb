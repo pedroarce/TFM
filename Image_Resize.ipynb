{
  "nbformat": 4,
  "nbformat_minor": 0,
  "metadata": {
    "colab": {
      "provenance": []
    },
    "kernelspec": {
      "name": "python3",
      "display_name": "Python 3"
    },
    "language_info": {
      "name": "python"
    }
  },
  "cells": [
    {
      "cell_type": "code",
      "execution_count": null,
      "metadata": {
        "id": "jp6aDvDf7pPF"
      },
      "outputs": [],
      "source": [
        "from PIL import Image\n",
        "import os\n",
        "\n",
        "path = \"/content/drive/MyDrive/imagenes/\"\n",
        "resized_path = \"/content/drive/MyDrive/resized_imagenes/\"  # Modify this to your desired path\n",
        "\n",
        "dirs = os.listdir(path)\n",
        "\n",
        "if not os.path.exists(resized_path):\n",
        "    os.makedirs(resized_path)\n",
        "\n",
        "def resize():\n",
        "    for item in dirs:\n",
        "        if item == '.DS_Store':\n",
        "            continue\n",
        "        if os.path.isfile(os.path.join(path, item)):\n",
        "            image = Image.open(os.path.join(path, item))\n",
        "            file_path, extension = os.path.splitext(os.path.join(path, item))\n",
        "            size = image.size\n",
        "\n",
        "            new_image_height = 500\n",
        "            new_image_width = int(size[1] / size[0] * new_image_height)\n",
        "\n",
        "            image = image.resize((new_image_height, new_image_width), Image.LANCZOS)\n",
        "            image.save(os.path.join(resized_path, file_path.split('/')[-1] + \"_small\" + extension), 'JPEG', quality=90)\n",
        "\n",
        "\n",
        "resize()"
      ]
    }
  ]
}